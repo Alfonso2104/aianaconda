{
 "cells": [
  {
   "cell_type": "markdown",
   "id": "12864255",
   "metadata": {},
   "source": [
    "## Variables and Data Types"
   ]
  },
  {
   "cell_type": "code",
   "execution_count": 13,
   "id": "0fc18cfa",
   "metadata": {},
   "outputs": [
    {
     "data": {
      "text/plain": [
       "99"
      ]
     },
     "execution_count": 13,
     "metadata": {},
     "output_type": "execute_result"
    }
   ],
   "source": [
    "number_of_cats = 99\n",
    "number_of_cats"
   ]
  },
  {
   "cell_type": "code",
   "execution_count": 14,
   "id": "e795a9f5",
   "metadata": {},
   "outputs": [
    {
     "data": {
      "text/plain": [
       "198"
      ]
     },
     "execution_count": 14,
     "metadata": {},
     "output_type": "execute_result"
    }
   ],
   "source": [
    "number_of_cats *= 2\n",
    "number_of_cats"
   ]
  },
  {
   "cell_type": "code",
   "execution_count": 15,
   "id": "78bdfa84",
   "metadata": {},
   "outputs": [
    {
     "data": {
      "text/plain": [
       "(5, 10, 15)"
      ]
     },
     "execution_count": 15,
     "metadata": {},
     "output_type": "execute_result"
    }
   ],
   "source": [
    "all, at, once = 5, 10, 15\n",
    "all, at, once"
   ]
  },
  {
   "cell_type": "markdown",
   "id": "a27760dd",
   "metadata": {},
   "source": [
    "### Data Types"
   ]
  },
  {
   "cell_type": "code",
   "execution_count": 16,
   "id": "f1c6edfc",
   "metadata": {},
   "outputs": [],
   "source": [
    "# bool int, float, str, list, tuple, set, dict"
   ]
  },
  {
   "cell_type": "code",
   "execution_count": 17,
   "id": "b5b5efef",
   "metadata": {},
   "outputs": [
    {
     "data": {
      "text/plain": [
       "str"
      ]
     },
     "execution_count": 17,
     "metadata": {},
     "output_type": "execute_result"
    }
   ],
   "source": [
    "some_string = \"Hello, World!\"\n",
    "type(some_string)"
   ]
  },
  {
   "cell_type": "code",
   "execution_count": 18,
   "id": "9d8fdf8f",
   "metadata": {},
   "outputs": [
    {
     "data": {
      "text/plain": [
       "float"
      ]
     },
     "execution_count": 18,
     "metadata": {},
     "output_type": "execute_result"
    }
   ],
   "source": [
    "type(9.0) # float"
   ]
  },
  {
   "cell_type": "code",
   "execution_count": 19,
   "id": "44ed3dcd",
   "metadata": {},
   "outputs": [
    {
     "data": {
      "text/plain": [
       "dict"
      ]
     },
     "execution_count": 19,
     "metadata": {},
     "output_type": "execute_result"
    }
   ],
   "source": [
    "type({}) # dict"
   ]
  },
  {
   "cell_type": "code",
   "execution_count": 20,
   "id": "d67747e4",
   "metadata": {},
   "outputs": [
    {
     "name": "stdout",
     "output_type": "stream",
     "text": [
      "The variable is None\n",
      "The variable is None\n"
     ]
    }
   ],
   "source": [
    "# None is a special value in Python\n",
    "some_variable = None\n",
    "type(some_variable) # NoneType\n",
    "# None is often used to indicate the absence of a value\n",
    "# or a null value in other programming languages.\n",
    "# It is not the same as False, 0, or an empty string.\n",
    "# None is a singleton in Python, meaning there is only one instance of None.\n",
    "# You can check if a variable is None using the `is` operator\n",
    "some_variable is None  # True\n",
    "# You can also use `is not` to check if a variable is not None\n",
    "some_variable is not None  # False\n",
    "# You can assign None to a variable\n",
    "some_variable = None\n",
    "# You can also use None in conditional statements\n",
    "if some_variable is None:\n",
    "    print(\"The variable is None\")\n",
    "# You can use None in functions to indicate that a function does not return a value\n",
    "def my_function():\n",
    "    return None\n",
    "# You can also use None as a default value for function parameters\n",
    "def my_function_with_default(param=None):\n",
    "    if param is None:\n",
    "        print(\"No parameter was provided\")\n",
    "    else:\n",
    "        print(f\"Parameter provided: {param}\")\n",
    "# You can use None in data structures like lists, tuples, and dictionaries\n",
    "my_list = [1, 2, None, 4]\n",
    "my_tuple = (None, 2, 3)\n",
    "my_dict = {'key1': 'value1', 'key2': None}\n",
    "# You can check if a variable is None using the `is` operator\n",
    "# You can also use None in comparisons\n",
    "if some_variable == None:\n",
    "    print(\"The variable is None\")"
   ]
  },
  {
   "cell_type": "code",
   "execution_count": 21,
   "id": "1e097458",
   "metadata": {},
   "outputs": [
    {
     "name": "stdout",
     "output_type": "stream",
     "text": [
      "This is a docstring for my_function_with_docstring.\n",
      "    \n",
      "    It describes what the function does.\n",
      "    \n"
     ]
    }
   ],
   "source": [
    "# Double vs Single Quotes\n",
    "single_quote_string = 'Hello, World!'\n",
    "double_quote_string = \"Hello, World!\"\n",
    "# Both single and double quotes can be used to create strings in Python.\n",
    "# The choice between single and double quotes is often a matter of personal preference.\n",
    "# You can use single quotes inside double quotes and vice versa without escaping.\n",
    "# For example:\n",
    "escaped_single_quote_string = \"It's a beautiful day!\"\n",
    "escaped_double_quote_string = 'He said, \"Hello!\"'\n",
    "# You can also use triple quotes for multi-line strings.\n",
    "triple_quote_string = \"\"\"This is a\n",
    "multi-line string.\n",
    "It can span multiple lines\n",
    "and preserve formatting.\"\"\"\n",
    "# Triple quotes can be either single or double quotes.\n",
    "triple_quote_string_single = '''This is another\n",
    "multi-line string.\n",
    "It can also span multiple lines\n",
    "and preserve formatting.'''\n",
    "# Triple quotes are often used for docstrings in Python functions and classes.\n",
    "# Docstrings are used to document functions, classes, and modules.\n",
    "# They are enclosed in triple quotes and can span multiple lines.\n",
    "# Docstrings can be accessed using the `__doc__` attribute of a function or class.\n",
    "# For example:\n",
    "def my_function_with_docstring():\n",
    "    \"\"\"This is a docstring for my_function_with_docstring.\n",
    "    \n",
    "    It describes what the function does.\n",
    "    \"\"\"\n",
    "    pass  \n",
    "# You can access the docstring using the __doc__ attribute\n",
    "print(my_function_with_docstring.__doc__)\n",
    "# You can also use single quotes for docstrings, but double quotes are more common.\n",
    "# In Python, strings are immutable, meaning they cannot be changed after they are created.\n",
    "# However, you can create a new string based on an existing one.\n",
    "new_string = single_quote_string.replace(\"World\", \"Python\")"
   ]
  },
  {
   "cell_type": "code",
   "execution_count": null,
   "id": "9aed4cce",
   "metadata": {},
   "outputs": [],
   "source": [
    "# String Escape Characters\n",
    "# Escape characters are used to represent special characters in strings.\n",
    "escape_string = \"This is a string with a newline character.\\nAnd this is on a new line.\"\n",
    "# Common escape characters include:\n",
    "# \\n - Newline\n",
    "# \\t - Tab\n",
    "# \\\\ - Backslash\n",
    "# \\' - Single quote\n",
    "# \\\" - Double quote\n",
    "# You can use escape characters to include special characters in strings.\n",
    "escaped_string = \"This is a string with a single quote: \\' and a double quote: \\\"\"\n",
    "# You can also use raw strings to avoid escape characters.\n",
    "raw_string = r\"This is a raw string with a backslash: \\ and no escape characters.\"\n",
    "# Raw strings are created by prefixing the string with 'r' or 'R'.\n",
    "# They are often used for regular expressions and file paths.\n",
    "# You can also use f-strings (formatted string literals) to include variables in strings.\n",
    "name = \"Alice\"\n",
    "greeting = f\"Hello, {name}!\"\n",
    "# F-strings are created by prefixing the string with 'f' or 'F'.\n",
    "# They allow you to embed expressions inside string literals using curly braces.\n",
    "# F-strings are evaluated at runtime and can include any valid Python expression.\n",
    "# You can also use f-strings for multi-line strings.\n",
    "multi_line_f_string = f\"\"\"Hello, {name}!\n",
    "This is a multi-line string with an embedded variable.\n",
    "It can span multiple lines and include variables like {name}.\"\"\"\n",
    "# F-strings are a powerful way to create formatted strings in Python.\n",
    "# They are available in Python 3.6 and later.\n",
    "# You can also use the format() method to format strings.\n",
    "formatted_string = \"Hello, {}!\".format(name)\n",
    "# The format() method allows you to insert variables into strings using curly braces.\n",
    "# You can also use positional and keyword arguments with the format() method.\n",
    "# Positional arguments are inserted in the order they appear.\n",
    "positional_formatted_string = \"Hello, {} and {}!\".format(\"Alice\", \"Bob\")\n",
    "# Keyword arguments can be used to specify which variable goes where.\n",
    "keyword_formatted_string = \"Hello, {name}!\".format(name=\"Alice\")\n",
    "# You can also use the % operator for string formatting, but it is less common in modern Python.\n",
    "percent_formatted_string = \"Hello, %s!\" % name\n",
    "# The % operator allows you to insert variables into strings using placeholders.\n",
    "# Placeholders can be %s for strings, %d for integers, %f for floats, etc.\n",
    "# However, the % operator is considered old-style formatting and is not recommended for new code.\n",
    "# Instead, it is better to use f-strings or the format() method for string formatting.\n",
    "# In summary, Python provides various ways to create and format strings,\n",
    "# including single and double quotes, triple quotes for multi-line strings,\n",
    "# escape characters, raw strings, f-strings, the format() method, and the % operator.\n",
    "# Each method has its own use cases and advantages.\n",
    "# It's important to choose the right method based on your needs and preferences."
   ]
  },
  {
   "cell_type": "markdown",
   "id": "eba13f70",
   "metadata": {},
   "source": [
    "### String Concatenation"
   ]
  },
  {
   "cell_type": "code",
   "execution_count": null,
   "id": "ee895611",
   "metadata": {},
   "outputs": [],
   "source": [
    "# String Concatenation\n",
    "# String concatenation is the process of joining two or more strings together.\n",
    "# In Python, you can concatenate strings using the + operator.\n",
    "string1 = \"Hello\"\n",
    "string2 = \"World\"\n",
    "string3 = \"!\"\n",
    "concatenated_string = string1 + \" \" + string2\n",
    "concatenated_string += string3\n",
    "# The + operator allows you to combine strings into a single string.\n",
    "# You can also use the join() method to concatenate strings from a list or tuple.\n",
    "string_list = [\"Hello\", \"World\"]\n",
    "joined_string = \" \".join(string_list)\n",
    "# The join() method takes an iterable (like a list or tuple) and joins its elements into a single string,\n",
    "# using the specified separator (in this case, a space).\n",
    "# You can also use f-strings for string concatenation.\n",
    "f_concatenated_string = f\"{string1} {string2}\"\n",
    "# F-strings allow you to embed variables directly into the string.\n",
    "# You can also use the format() method for string concatenation.\n",
    "formatted_concatenated_string = \"{} {}\".format(string1, string2)\n",
    "# The format() method allows you to insert variables into the string using curly braces.\n",
    "# You can also use the % operator for string concatenation, but it is less common in modern Python.\n",
    "percent_concatenated_string = \"%s %s\" % (string1, string2)\n",
    "# The % operator allows you to insert variables into the string using placeholders.\n",
    "# Placeholders can be %s for strings, %d for integers, %f for floats, etc.\n",
    "# However, the % operator is considered old-style formatting and is not recommended for new code.\n",
    "# Instead, it is better to use f-strings or the format() method for string concatenation.\n",
    "# In summary, Python provides various ways to concatenate strings,\n",
    "# including the + operator, the join() method, f-strings, the format() method, and the % operator.\n",
    "# Each method has its own use cases and advantages.\n",
    "# It's important to choose the right method based on your needs and preferences. b bbg"
   ]
  },
  {
   "cell_type": "markdown",
   "id": "d6f18926",
   "metadata": {},
   "source": [
    "### Strings and Indexes"
   ]
  },
  {
   "cell_type": "code",
   "execution_count": null,
   "id": "3d315331",
   "metadata": {},
   "outputs": [],
   "source": [
    "# Strings and Indexes\n",
    "# In Python, strings are sequences of characters, and you can access individual characters using indexes.\n",
    "# Indexes start at 0, so the first character of a string has an index of 0.\n",
    "example_string = \"Hello, World!\"\n",
    "# You can access individual characters using square brackets [].\n",
    "first_character = example_string[0]  # 'H'\n",
    "second_character = example_string[1]  # 'e'\n",
    "# You can also use negative indexes to access characters from the end of the string.\n",
    "last_character = example_string[-1]  # '!'\n",
    "second_last_character = example_string[-2]  # 'd'\n",
    "# You can slice strings to get a substring using the colon : operator.\n",
    "substring = example_string[0:5]  # 'Hello'\n",
    "# The slice [0:5] means \"start at index 0 and go up to (but not including) index 5\".\n",
    "# You can also omit the start or end index to slice from the beginning or to the end of the string.\n",
    "substring_from_start = example_string[:5]  # 'Hello'\n",
    "substring_to_end = example_string[7:]  # 'World!'\n",
    "# You can also use negative indexes in slices.\n",
    "substring_from_end = example_string[-6:]  # 'World!'\n",
    "# The slice [-6:] means \"start at index -6 and go to the end of the string\".\n",
    "# You can also use the step parameter in slices to skip characters.\n",
    "substring_with_step = example_string[0:12:2]  # 'Hlo ol!'\n",
    "# The slice [0:12:2] means \"start at index 0, go up to (but not including) index 12, and take every 2nd character\".\n",
    "# You can also use the len() function to get the length of a string.\n",
    "string_length = len(example_string)  # 13\n",
    "# The len() function returns the number of characters in the string.\n",
    "# You can also check if a character is in a string using the 'in' operator.\n",
    "is_hello_in_string = 'Hello' in example_string  # True\n",
    "# The 'in' operator checks if the specified substring is present in the string.\n",
    "# You can also use the 'not in' operator to check if a character is not in a string.\n",
    "is_not_hello_in_string = 'Goodbye' not in example_string  # True\n",
    "# The 'not in' operator checks if the specified substring is not present in the string.\n",
    "# In summary, Python provides various ways to work with strings and indexes,\n",
    "# including accessing individual characters, slicing strings, checking for substrings,\n",
    "# and getting the length of a string.\n",
    "# Each method has its own use cases and advantages.\n",
    "# It's important to choose the right method based on your needs and preferences."
   ]
  },
  {
   "cell_type": "markdown",
   "id": "059b0a68",
   "metadata": {},
   "source": [
    "### Converting Data Types"
   ]
  },
  {
   "cell_type": "code",
   "execution_count": null,
   "id": "b89dfb85",
   "metadata": {},
   "outputs": [],
   "source": [
    "# Converting Between Types\n",
    "# In Python, you can convert between different data types using built-in functions.\n",
    "# Common type conversion functions include:\n",
    "# int() - Converts a value to an integer\n",
    "int_value = int(3.14)  # Converts float to int, result is 3\n",
    "float_value = float(5)  # Converts int to float, result is 5.0\n",
    "str_value = str(42)  # Converts int to string, result is '42'\n",
    "list_value = list(\"Hello\")  # Converts string to list of characters, result is ['H', 'e', 'l', 'l', 'o']\n",
    "tuple_value = tuple([1, 2, 3])  # Converts list to tuple, result is (1, 2, 3)\n",
    "set_value = set([1, 2, 2, 3])  # Converts list to set, result is {1, 2, 3}\n",
    "dict_value = dict(a=1, b=2)  # Converts keyword arguments to dictionary, result is {'a': 1, 'b': 2}\n",
    "# You can also convert between strings and other types.\n",
    "int_from_string = int(\"123\")  # Converts string to int, result is 123\n",
    "float_from_string = float(\"3.14\")  # Converts string to float, result is 3.14"
   ]
  }
 ],
 "metadata": {
  "kernelspec": {
   "display_name": "base",
   "language": "python",
   "name": "python3"
  },
  "language_info": {
   "codemirror_mode": {
    "name": "ipython",
    "version": 3
   },
   "file_extension": ".py",
   "mimetype": "text/x-python",
   "name": "python",
   "nbconvert_exporter": "python",
   "pygments_lexer": "ipython3",
   "version": "3.12.7"
  }
 },
 "nbformat": 4,
 "nbformat_minor": 5
}
