{
 "cells": [
  {
   "cell_type": "markdown",
   "id": "dabd5f86",
   "metadata": {},
   "source": [
    "## Boolean and Conditional Logic"
   ]
  },
  {
   "cell_type": "code",
   "execution_count": null,
   "id": "98c58cd4",
   "metadata": {},
   "outputs": [],
   "source": [
    "# Intro to conditionals if\n",
    "# if, elif, else\n",
    "var1, var2 = 1, 2\n",
    "if var1 == 1:\n",
    "    print(\"var1 is equal to 1\")\n",
    "elif var2 == 2:\n",
    "    print(\"var2 is equal to 2\")\n",
    "else:\n",
    "    print(\"var1 is not equal to 1 and var2 is not equal to 2\")\n",
    "\n",
    "# Multiple elif statements\n",
    "var3 = 3\n",
    "if var1 == 1:\n",
    "    print(\"var1 is equal to 1\")\n",
    "elif var2 == 2:\n",
    "    print(\"var2 is equal to 2\")\n",
    "elif var3 == 3:\n",
    "    print(\"var3 is equal to 3\")\n",
    "else:\n",
    "    print(\"var1 is not equal to 1, var2 is not equal to 2, and var3 is not equal to 3\")\n"
   ]
  },
  {
   "cell_type": "code",
   "execution_count": null,
   "id": "45c8e344",
   "metadata": {},
   "outputs": [],
   "source": [
    "# Truthiness of values\n",
    "var4 = 1\n",
    "if var4:\n",
    "    print(\"var4 is truthy\")\n",
    "else:\n",
    "    print(\"var4 is falsy\")\n",
    "# Using 'not' to check falsiness\n",
    "if not var4:\n",
    "    print(\"var4 is falsy, as expected\")"
   ]
  },
  {
   "cell_type": "code",
   "execution_count": null,
   "id": "9e556840",
   "metadata": {},
   "outputs": [],
   "source": [
    "# Comparison operators\n",
    "# == (equal), != (not equal), <, >, <=, >="
   ]
  },
  {
   "cell_type": "code",
   "execution_count": null,
   "id": "3def6635",
   "metadata": {},
   "outputs": [],
   "source": [
    "# Logical AND, OR, NOT\n",
    "var5, var6, isBool = 5, 10, True\n",
    "if var5 < 10 and var6 > 5:\n",
    "    print(\"Both conditions are true\")\n",
    "if var5 < 10 or var6 < 5:\n",
    "    print(\"At least one condition is true\")\n",
    "if not isBool:\n",
    "    print(\"var5 is not greater than 10\")"
   ]
  },
  {
   "cell_type": "code",
   "execution_count": null,
   "id": "7b830e50",
   "metadata": {},
   "outputs": [],
   "source": [
    "# A note on Is vs == in Python\n",
    "# 'is' checks for identity, '==' checks for equality\n",
    "var7 = [1, 2, 3]\n",
    "var8 = var7\n",
    "var9 = var7[:]\n",
    "if var7 is var8:\n",
    "    print(\"var7 and var8 are the same object in memory\")\n",
    "if var7 == var9:\n",
    "    print(\"var7 and var9 have the same content but are different objects in memory\")\n",
    "# Using 'in' to check membership\n",
    "if 2 in var7:\n",
    "    print(\"2 is in var7\")\n",
    "# Using 'not in' to check non-membership\n",
    "if 4 not in var7:\n",
    "    print(\"4 is not in var7\")\n",
    "# Using 'in' with strings\n",
    "if '2' in '123':\n",
    "    print(\"'2' is in '123'\")\n",
    "# Using 'not in' with strings\n",
    "if '4' not in '123':\n",
    "    print(\"'4' is not in '123'\")\n",
    "# Using 'in' with tuples\n",
    "var10 = (1, 2, 3)\n",
    "if 2 in var10:\n",
    "    print(\"2 is in var10\")\n",
    "# Using 'not in' with tuples\n",
    "if 4 not in var10:\n",
    "    print(\"4 is not in var10\")\n",
    "# Using 'in' with dictionaries\n",
    "var11 = {'a': 1, 'b': 2, 'c': 3}\n",
    "if 'b' in var11:\n",
    "    print(\"'b' is a key in var11\")\n",
    "# Using 'not in' with dictionaries\n",
    "if 'd' not in var11:\n",
    "    print(\"'d' is not a key in var11\")\n",
    "# Using 'in' with sets\n",
    "var12 = {1, 2, 3}\n",
    "if 2 in var12:\n",
    "    print(\"2 is in var12\")\n",
    "# Using 'not in' with sets\n",
    "if 4 not in var12:\n",
    "    print(\"4 is not in var12\")\n",
    "# Using 'in' with lists\n",
    "var13 = [1, 2, 3]\n",
    "if 2 in var13:\n",
    "    print(\"2 is in var13\")\n",
    "# Using 'not in' with lists\n",
    "if 4 not in var13:\n",
    "    print(\"4 is not in var13\")"
   ]
  }
 ],
 "metadata": {
  "kernelspec": {
   "display_name": "base",
   "language": "python",
   "name": "python3"
  },
  "language_info": {
   "name": "python",
   "version": "3.12.7"
  }
 },
 "nbformat": 4,
 "nbformat_minor": 5
}
